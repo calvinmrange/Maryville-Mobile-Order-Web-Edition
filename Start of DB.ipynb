{
  "cells": [
    {
      "cell_type": "code",
      "execution_count": 2,
      "metadata": {
        "colab": {
          "base_uri": "https://localhost:8080/",
          "height": 211
        },
        "id": "sUHmt7tjGx-7",
        "outputId": "8e106e6a-1fca-496d-9414-e0cb5eb108dd"
      },
      "outputs": [
        {
          "output_type": "error",
          "ename": "NameError",
          "evalue": "name 'app' is not defined",
          "traceback": [
            "\u001b[0;31m---------------------------------------------------------------------------\u001b[0m",
            "\u001b[0;31mNameError\u001b[0m                                 Traceback (most recent call last)",
            "\u001b[0;32m<ipython-input-2-3fd40013de59>\u001b[0m in \u001b[0;36m<cell line: 0>\u001b[0;34m()\u001b[0m\n\u001b[1;32m     23\u001b[0m     ''')\n\u001b[1;32m     24\u001b[0m \u001b[0;34m\u001b[0m\u001b[0m\n\u001b[0;32m---> 25\u001b[0;31m \u001b[0;34m@\u001b[0m\u001b[0mapp\u001b[0m\u001b[0;34m.\u001b[0m\u001b[0mroute\u001b[0m\u001b[0;34m(\u001b[0m\u001b[0;34m'/menu'\u001b[0m\u001b[0;34m,\u001b[0m \u001b[0mmethods\u001b[0m \u001b[0;34m=\u001b[0m \u001b[0;34m[\u001b[0m\u001b[0;34m'GET'\u001b[0m\u001b[0;34m]\u001b[0m\u001b[0;34m)\u001b[0m\u001b[0;34m\u001b[0m\u001b[0;34m\u001b[0m\u001b[0m\n\u001b[0m\u001b[1;32m     26\u001b[0m \u001b[0;32mdef\u001b[0m \u001b[0mget_menu\u001b[0m\u001b[0;34m(\u001b[0m\u001b[0;34m)\u001b[0m\u001b[0;34m:\u001b[0m\u001b[0;34m\u001b[0m\u001b[0;34m\u001b[0m\u001b[0m\n\u001b[1;32m     27\u001b[0m   \u001b[0;32mreturn\u001b[0m \u001b[0mjsonify\u001b[0m\u001b[0;34m(\u001b[0m\u001b[0mmenu_items\u001b[0m\u001b[0;34m)\u001b[0m\u001b[0;34m\u001b[0m\u001b[0;34m\u001b[0m\u001b[0m\n",
            "\u001b[0;31mNameError\u001b[0m: name 'app' is not defined"
          ]
        }
      ],
      "source": [
        "import sqlite3\n",
        "import flask\n",
        "def MR_DB():\n",
        "    connection = sqlite3.connect('MRDining.db')\n",
        "    cursor = conn.cursor()\n",
        "    cursor.execute('''\n",
        "        CREATE TABLE IF NOT EXISTS Menu (\n",
        "            ID INTEGER PRIMARY KEY AUTOINCREMENT,\n",
        "            Name TEXT NOT NULL,\n",
        "            Description TEXT,\n",
        "            Price REAL NOT NULL,\n",
        "            restaurant_id INTEGER\n",
        "        )\n",
        "    ''')\n",
        "\n",
        "    cursor.execute('''\n",
        "        CREATE TABLE IF NOT EXISTS Orders (\n",
        "            ID INTEGER PRIMARY KEY AUTOINCREMENT,\n",
        "            TEXT NOT NULL,\n",
        "            order_date TEXT NOT NULL,\n",
        "            total_cost REAL NOT NULL\n",
        "        )\n",
        "    ''')\n",
        "\n",
        "@app.route('/menu', methods = ['GET'], endpoint = 'load_menu')\n",
        "def get_menu():\n",
        "\n",
        "  #menu_items needs to be defined from DB\n",
        "\n",
        "  return jsonify(menu_items)\n",
        "\n",
        "@app.route('/order', methods = ['POST'], endpoint = 'place_order')\n",
        "def place_order():\n",
        "\n",
        "  #Logic for order placement\n",
        "\n",
        "  return jsonify({\"status\": \"Order placed successfully\"})\n",
        "\n",
        "\n",
        "connection.commit()\n",
        "connection.close()\n",
        ""
      ]
    }
  ],
  "metadata": {
    "kernelspec": {
      "display_name": "Python 3",
      "language": "python",
      "name": "python3"
    },
    "language_info": {
      "name": "python",
      "version": "3.13.2"
    },
    "colab": {
      "provenance": []
    }
  },
  "nbformat": 4,
  "nbformat_minor": 0
}
