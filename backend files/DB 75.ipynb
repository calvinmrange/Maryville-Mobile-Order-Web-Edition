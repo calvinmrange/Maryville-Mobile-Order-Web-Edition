{
 "cells": [
  {
   "cell_type": "code",
   "execution_count": 3,
   "metadata": {},
   "outputs": [],
   "source": [
    "import sqlite3\n",
    "import flask\n",
    "def MR_DB():\n",
    "    connection = sqlite3.connect('MRDining.db')\n",
    "    cursor = connection.cursor()\n",
    "    cursor.execute('''\n",
    "        CREATE TABLE IF NOT EXISTS Resturaunts (\n",
    "            restaurant_id INTEGER PRIMARY KEY AUTOINCREMENT,\n",
    "            Name TEXT NOT NULL,\n",
    "            Location TEXT NOT NULL\n",
    "        )\n",
    "    ''')\n",
    "    cursor.execute('''\n",
    "        CREATE TABLE IF NOT EXISTS Menu (\n",
    "            Item_ID INTEGER PRIMARY KEY AUTOINCREMENT,\n",
    "            Item_Name TEXT NOT NULL,\n",
    "            Description TEXT NOT NULL,\n",
    "            Price REAL NOT NULL,\n",
    "            restaurant_id INTEGER\n",
    "            FOREIGN KEY (Item_ID) REFERENCES Restaurants(ID) ON DELETE CASCADE\n",
    "        )\n",
    "    ''')\n",
    "    cursor.execute('''\n",
    "        CREATE TABLE IF NOT EXISTS Orders (\n",
    "            Order_ID INTEGER PRIMARY KEY AUTOINCREMENT,\n",
    "            Student_Name TEXT NOT NULL,\n",
    "            Price REAL NOT NULL,\n",
    "            restaurant_id INTEGER\n",
    "            FOREIGN KEY (restaurant_id) REFERENCES Restaurants(restaurant_id) ON DELETE CASCADE\n",
    "        )\n",
    "    ''')\n",
    "    Resturaunt_Data = [\n",
    "        (\"Mozzie's Handcrafted Pizza\", \"Gander Dining Hall\"),\n",
    "        (\"Urban Hen\", \"Gander Dining Hall\"),\n",
    "        (\"Sushi by Faith\", \"Gander Dining Hall\"),\n",
    "        (\"Rice It Up\", \"Gander Dining Hall\"),\n",
    "        (\"Epic Eats\", \"Gander Dining Hall\"),\n",
    "        (\"Louie's\", \"DUC\"),\n",
    "        (\"Starbucks\", \"Library\")\n",
    "    ]\n",
    "    cursor.executemany(\"INSERT INTO Resturaunts (Name, Location) VALUES (?, ?)\", Resturaunt_Data)\n",
    "\n",
    "\n",
    "    connection.commit()\n",
    "    connection.close()\n",
    "\n",
    "\n",
    "\n"
   ]
  }
 ],
 "metadata": {
  "kernelspec": {
   "display_name": "Python 3",
   "language": "python",
   "name": "python3"
  },
  "language_info": {
   "codemirror_mode": {
    "name": "ipython",
    "version": 3
   },
   "file_extension": ".py",
   "mimetype": "text/x-python",
   "name": "python",
   "nbconvert_exporter": "python",
   "pygments_lexer": "ipython3",
   "version": "3.13.2"
  }
 },
 "nbformat": 4,
 "nbformat_minor": 2
}
